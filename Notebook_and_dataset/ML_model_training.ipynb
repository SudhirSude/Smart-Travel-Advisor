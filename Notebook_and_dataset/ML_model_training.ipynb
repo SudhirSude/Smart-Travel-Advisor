{
 "cells": [
  {
   "cell_type": "markdown",
   "id": "6fc80fec",
   "metadata": {},
   "source": [
    "# Flight Price Prediction Notebook"
   ]
  },
  {
   "cell_type": "code",
   "execution_count": 5,
   "id": "1a6a90b0",
   "metadata": {},
   "outputs": [],
   "source": [
    "import pandas as pd\n",
    "import numpy as np\n",
    "import matplotlib.pyplot as plt\n",
    "import seaborn as sns\n",
    "from sklearn.model_selection import train_test_split, cross_val_score\n",
    "from sklearn.ensemble import RandomForestRegressor\n",
    "from xgboost import XGBRegressor\n",
    "from sklearn.metrics import mean_absolute_error, r2_score\n",
    "from sklearn.preprocessing import LabelEncoder, OneHotEncoder, StandardScaler\n",
    "from sklearn.compose import ColumnTransformer\n",
    "from sklearn.pipeline import Pipeline\n",
    "from sklearn.impute import SimpleImputer\n",
    "from sklearn.feature_selection import SelectFromModel\n",
    "import joblib\n",
    "import warnings\n",
    "warnings.filterwarnings('ignore')\n",
    "%matplotlib inline"
   ]
  },
  {
   "cell_type": "markdown",
   "id": "c5d74100",
   "metadata": {},
   "source": [
    "## Load Datasets"
   ]
  },
  {
   "cell_type": "code",
   "execution_count": 6,
   "id": "d2857886",
   "metadata": {},
   "outputs": [],
   "source": [
    "train_df = pd.read_excel('Data_Train.xlsx')"
   ]
  },
  {
   "cell_type": "markdown",
   "id": "2b4320b8",
   "metadata": {},
   "source": [
    "## Display Basic Info"
   ]
  },
  {
   "cell_type": "code",
   "execution_count": 7,
   "id": "306d2f7e",
   "metadata": {},
   "outputs": [
    {
     "name": "stdout",
     "output_type": "stream",
     "text": [
      "Train Data Shape: (10683, 11)\n"
     ]
    }
   ],
   "source": [
    "print(\"Train Data Shape:\", train_df.shape)"
   ]
  },
  {
   "cell_type": "code",
   "execution_count": 8,
   "id": "570ca6d4",
   "metadata": {},
   "outputs": [
    {
     "name": "stdout",
     "output_type": "stream",
     "text": [
      "\n",
      "Train Data Columns: ['Airline', 'Date_of_Journey', 'Source', 'Destination', 'Route', 'Dep_Time', 'Arrival_Time', 'Duration', 'Total_Stops', 'Additional_Info', 'Price']\n"
     ]
    }
   ],
   "source": [
    "print(\"\\nTrain Data Columns:\", train_df.columns.tolist())"
   ]
  },
  {
   "cell_type": "code",
   "execution_count": 9,
   "id": "37726671",
   "metadata": {},
   "outputs": [
    {
     "data": {
      "text/html": [
       "<div>\n",
       "<style scoped>\n",
       "    .dataframe tbody tr th:only-of-type {\n",
       "        vertical-align: middle;\n",
       "    }\n",
       "\n",
       "    .dataframe tbody tr th {\n",
       "        vertical-align: top;\n",
       "    }\n",
       "\n",
       "    .dataframe thead th {\n",
       "        text-align: right;\n",
       "    }\n",
       "</style>\n",
       "<table border=\"1\" class=\"dataframe\">\n",
       "  <thead>\n",
       "    <tr style=\"text-align: right;\">\n",
       "      <th></th>\n",
       "      <th>Airline</th>\n",
       "      <th>Date_of_Journey</th>\n",
       "      <th>Source</th>\n",
       "      <th>Destination</th>\n",
       "      <th>Route</th>\n",
       "      <th>Dep_Time</th>\n",
       "      <th>Arrival_Time</th>\n",
       "      <th>Duration</th>\n",
       "      <th>Total_Stops</th>\n",
       "      <th>Additional_Info</th>\n",
       "      <th>Price</th>\n",
       "    </tr>\n",
       "  </thead>\n",
       "  <tbody>\n",
       "    <tr>\n",
       "      <th>0</th>\n",
       "      <td>IndiGo</td>\n",
       "      <td>24/03/2019</td>\n",
       "      <td>Banglore</td>\n",
       "      <td>New Delhi</td>\n",
       "      <td>BLR → DEL</td>\n",
       "      <td>22:20</td>\n",
       "      <td>01:10 22 Mar</td>\n",
       "      <td>2h 50m</td>\n",
       "      <td>non-stop</td>\n",
       "      <td>No info</td>\n",
       "      <td>3897</td>\n",
       "    </tr>\n",
       "    <tr>\n",
       "      <th>1</th>\n",
       "      <td>Air India</td>\n",
       "      <td>1/05/2019</td>\n",
       "      <td>Kolkata</td>\n",
       "      <td>Banglore</td>\n",
       "      <td>CCU → IXR → BBI → BLR</td>\n",
       "      <td>05:50</td>\n",
       "      <td>13:15</td>\n",
       "      <td>7h 25m</td>\n",
       "      <td>2 stops</td>\n",
       "      <td>No info</td>\n",
       "      <td>7662</td>\n",
       "    </tr>\n",
       "    <tr>\n",
       "      <th>2</th>\n",
       "      <td>Jet Airways</td>\n",
       "      <td>9/06/2019</td>\n",
       "      <td>Delhi</td>\n",
       "      <td>Cochin</td>\n",
       "      <td>DEL → LKO → BOM → COK</td>\n",
       "      <td>09:25</td>\n",
       "      <td>04:25 10 Jun</td>\n",
       "      <td>19h</td>\n",
       "      <td>2 stops</td>\n",
       "      <td>No info</td>\n",
       "      <td>13882</td>\n",
       "    </tr>\n",
       "    <tr>\n",
       "      <th>3</th>\n",
       "      <td>IndiGo</td>\n",
       "      <td>12/05/2019</td>\n",
       "      <td>Kolkata</td>\n",
       "      <td>Banglore</td>\n",
       "      <td>CCU → NAG → BLR</td>\n",
       "      <td>18:05</td>\n",
       "      <td>23:30</td>\n",
       "      <td>5h 25m</td>\n",
       "      <td>1 stop</td>\n",
       "      <td>No info</td>\n",
       "      <td>6218</td>\n",
       "    </tr>\n",
       "    <tr>\n",
       "      <th>4</th>\n",
       "      <td>IndiGo</td>\n",
       "      <td>01/03/2019</td>\n",
       "      <td>Banglore</td>\n",
       "      <td>New Delhi</td>\n",
       "      <td>BLR → NAG → DEL</td>\n",
       "      <td>16:50</td>\n",
       "      <td>21:35</td>\n",
       "      <td>4h 45m</td>\n",
       "      <td>1 stop</td>\n",
       "      <td>No info</td>\n",
       "      <td>13302</td>\n",
       "    </tr>\n",
       "  </tbody>\n",
       "</table>\n",
       "</div>"
      ],
      "text/plain": [
       "       Airline Date_of_Journey    Source Destination                  Route  \\\n",
       "0       IndiGo      24/03/2019  Banglore   New Delhi              BLR → DEL   \n",
       "1    Air India       1/05/2019   Kolkata    Banglore  CCU → IXR → BBI → BLR   \n",
       "2  Jet Airways       9/06/2019     Delhi      Cochin  DEL → LKO → BOM → COK   \n",
       "3       IndiGo      12/05/2019   Kolkata    Banglore        CCU → NAG → BLR   \n",
       "4       IndiGo      01/03/2019  Banglore   New Delhi        BLR → NAG → DEL   \n",
       "\n",
       "  Dep_Time  Arrival_Time Duration Total_Stops Additional_Info  Price  \n",
       "0    22:20  01:10 22 Mar   2h 50m    non-stop         No info   3897  \n",
       "1    05:50         13:15   7h 25m     2 stops         No info   7662  \n",
       "2    09:25  04:25 10 Jun      19h     2 stops         No info  13882  \n",
       "3    18:05         23:30   5h 25m      1 stop         No info   6218  \n",
       "4    16:50         21:35   4h 45m      1 stop         No info  13302  "
      ]
     },
     "metadata": {},
     "output_type": "display_data"
    }
   ],
   "source": [
    "display(train_df.head())"
   ]
  },
  {
   "cell_type": "markdown",
   "id": "3d0a8bfe",
   "metadata": {},
   "source": [
    "## Exploratory Data Analysis (EDA)"
   ]
  },
  {
   "cell_type": "code",
   "execution_count": 10,
   "id": "98e0e125",
   "metadata": {},
   "outputs": [
    {
     "name": "stdout",
     "output_type": "stream",
     "text": [
      "\n",
      "Missing Values in Train Data:\n",
      "Airline            0\n",
      "Date_of_Journey    0\n",
      "Source             0\n",
      "Destination        0\n",
      "Route              1\n",
      "Dep_Time           0\n",
      "Arrival_Time       0\n",
      "Duration           0\n",
      "Total_Stops        1\n",
      "Additional_Info    0\n",
      "Price              0\n",
      "dtype: int64\n"
     ]
    }
   ],
   "source": [
    "# Check for missing values\n",
    "print(\"\\nMissing Values in Train Data:\")\n",
    "print(train_df.isnull().sum())"
   ]
  },
  {
   "cell_type": "markdown",
   "id": "new_cell_1",
   "metadata": {},
   "source": [
    "## Data Preprocessing"
   ]
  },
  {
   "cell_type": "code",
   "execution_count": 11,
   "id": "new_cell_2",
   "metadata": {},
   "outputs": [
    {
     "name": "stdout",
     "output_type": "stream",
     "text": [
      "\n",
      "Missing Values After Imputation:\n",
      "Airline            0\n",
      "Date_of_Journey    0\n",
      "Source             0\n",
      "Destination        0\n",
      "Route              0\n",
      "Dep_Time           0\n",
      "Arrival_Time       0\n",
      "Duration           0\n",
      "Total_Stops        0\n",
      "Additional_Info    0\n",
      "Price              0\n",
      "dtype: int64\n"
     ]
    }
   ],
   "source": [
    "# Fill missing values\n",
    "most_frequent_route = train_df['Route'].mode()[0]\n",
    "train_df['Route'].fillna(most_frequent_route, inplace=True)\n",
    "most_common_stops = train_df['Total_Stops'].mode()[0]\n",
    "train_df['Total_Stops'].fillna(most_common_stops, inplace=True)\n",
    "\n",
    "# Check if missing values are gone\n",
    "print(\"\\nMissing Values After Imputation:\")\n",
    "print(train_df.isnull().sum())"
   ]
  },
  {
   "cell_type": "code",
   "execution_count": 12,
   "id": "new_cell_3",
   "metadata": {},
   "outputs": [],
   "source": [
    "# Convert Date_of_Journey to datetime and extract features\n",
    "train_df['Date_of_Journey'] = pd.to_datetime(train_df['Date_of_Journey'], format='%d/%m/%Y')\n",
    "train_df['Journey_Day'] = train_df['Date_of_Journey'].dt.day\n",
    "train_df['Journey_Month'] = train_df['Date_of_Journey'].dt.month\n",
    "train_df['Journey_Year'] = train_df['Date_of_Journey'].dt.year\n",
    "\n",
    "# Convert Dep_Time and Arrival_Time\n",
    "train_df['Dep_Hour'] = pd.to_datetime(train_df['Dep_Time'], format='%H:%M').dt.hour\n",
    "train_df['Dep_Min'] = pd.to_datetime(train_df['Dep_Time'], format='%H:%M').dt.minute\n",
    "train_df['Arrival_Hour'] = pd.to_datetime(train_df['Arrival_Time'].str.split(' ').str[0], format='%H:%M', errors='coerce').dt.hour\n",
    "train_df['Arrival_Min'] = pd.to_datetime(train_df['Arrival_Time'].str.split(' ').str[0], format='%H:%M', errors='coerce').dt.minute\n",
    "\n",
    "# Handle potential NaT in Arrival_Hour and Arrival_Min\n",
    "train_df['Arrival_Hour'].fillna(train_df['Arrival_Hour'].mode()[0], inplace=True)\n",
    "train_df['Arrival_Min'].fillna(train_df['Arrival_Min'].mode()[0], inplace=True)\n",
    "\n",
    "# Convert Duration to minutes\n",
    "def duration_to_minutes(duration):\n",
    "    try:\n",
    "        hours = 0\n",
    "        minutes = 0\n",
    "        if 'h' in duration:\n",
    "            hours = int(duration.split('h')[0])\n",
    "            if 'm' in duration:\n",
    "                minutes = int(duration.split('h')[1].split('m')[0])\n",
    "        elif 'm' in duration:\n",
    "            minutes = int(duration.split('m')[0])\n",
    "        return hours * 60 + minutes\n",
    "    except:\n",
    "        return 0  # Handle malformed duration strings\n",
    "\n",
    "train_df['Duration_Mins'] = train_df['Duration'].apply(duration_to_minutes)\n",
    "\n",
    "# Encode Additional_Info\n",
    "train_df['Meal_Included'] = train_df['Additional_Info'].apply(lambda x: 0 if x == 'No info' else 1)"
   ]
  },
  {
   "cell_type": "markdown",
   "id": "new_cell_4",
   "metadata": {},
   "source": [
    "## Outlier Detection and Handling"
   ]
  },
  {
   "cell_type": "code",
   "execution_count": 13,
   "id": "new_cell_5",
   "metadata": {},
   "outputs": [
    {
     "data": {
      "image/png": "[encoded data removed]",
      "text/plain": [
       "<Figure size 1000x600 with 1 Axes>"
      ]
     },
     "metadata": {},
     "output_type": "display_data"
    }
   ],
   "source": [
    "# Detect outliers in Price using IQR method\n",
    "Q1 = train_df['Price'].quantile(0.25)\n",
    "Q3 = train_df['Price'].quantile(0.75)\n",
    "IQR = Q3 - Q1\n",
    "lower_bound = Q1 - 1.5 * IQR\n",
    "upper_bound = Q3 + 1.5 * IQR\n",
    "\n",
    "# Cap outliers\n",
    "train_df['Price'] = train_df['Price'].clip(lower=lower_bound, upper=upper_bound)\n",
    "\n",
    "# Visualize Price distribution after outlier handling\n",
    "plt.figure(figsize=(10, 6))\n",
    "sns.histplot(train_df['Price'], bins=50, kde=True)\n",
    "plt.title('Price Distribution After Outlier Handling')\n",
    "plt.xlabel('Price')\n",
    "plt.ylabel('Frequency')\n",
    "plt.show()"
   ]
  },
  {
   "cell_type": "markdown",
   "id": "new_cell_6",
   "metadata": {},
   "source": [
    "## Feature Correlation Analysis"
   ]
  },
  {
   "cell_type": "code",
   "execution_count": 14,
   "id": "new_cell_7",
   "metadata": {},
   "outputs": [
    {
     "data": {
      "image/png": "[encoded data removed]",
      "text/plain": [
       "<Figure size 1000x800 with 2 Axes>"
      ]
     },
     "metadata": {},
     "output_type": "display_data"
    }
   ],
   "source": [
    "# Select numerical features for correlation analysis\n",
    "numerical_cols = ['Journey_Day', 'Journey_Month', 'Journey_Year', 'Duration_Mins', 'Dep_Hour', 'Dep_Min', 'Arrival_Hour', 'Arrival_Min', 'Meal_Included', 'Price']\n",
    "\n",
    "# Compute correlation matrix\n",
    "corr_matrix = train_df[numerical_cols].corr()\n",
    "\n",
    "# Visualize correlation matrix\n",
    "plt.figure(figsize=(10, 8))\n",
    "sns.heatmap(corr_matrix, annot=True, cmap='coolwarm', fmt='.2f')\n",
    "plt.title('Correlation Matrix of Numerical Features')\n",
    "plt.show()"
   ]
  },
  {
   "cell_type": "markdown",
   "id": "new_cell_8",
   "metadata": {},
   "source": [
    "## Data Preparation for Modeling"
   ]
  },
  {
   "cell_type": "code",
   "execution_count": 15,
   "id": "06debc45",
   "metadata": {},
   "outputs": [
    {
     "data": {
      "text/html": [
       "<div>\n",
       "<style scoped>\n",
       "    .dataframe tbody tr th:only-of-type {\n",
       "        vertical-align: middle;\n",
       "    }\n",
       "\n",
       "    .dataframe tbody tr th {\n",
       "        vertical-align: top;\n",
       "    }\n",
       "\n",
       "    .dataframe thead th {\n",
       "        text-align: right;\n",
       "    }\n",
       "</style>\n",
       "<table border=\"1\" class=\"dataframe\">\n",
       "  <thead>\n",
       "    <tr style=\"text-align: right;\">\n",
       "      <th></th>\n",
       "      <th>Airline</th>\n",
       "      <th>Date_of_Journey</th>\n",
       "      <th>Source</th>\n",
       "      <th>Destination</th>\n",
       "      <th>Route</th>\n",
       "      <th>Dep_Time</th>\n",
       "      <th>Arrival_Time</th>\n",
       "      <th>Duration</th>\n",
       "      <th>Total_Stops</th>\n",
       "      <th>Additional_Info</th>\n",
       "      <th>Price</th>\n",
       "      <th>Journey_Day</th>\n",
       "      <th>Journey_Month</th>\n",
       "      <th>Journey_Year</th>\n",
       "      <th>Dep_Hour</th>\n",
       "      <th>Dep_Min</th>\n",
       "      <th>Arrival_Hour</th>\n",
       "      <th>Arrival_Min</th>\n",
       "      <th>Duration_Mins</th>\n",
       "      <th>Meal_Included</th>\n",
       "    </tr>\n",
       "  </thead>\n",
       "  <tbody>\n",
       "    <tr>\n",
       "      <th>0</th>\n",
       "      <td>IndiGo</td>\n",
       "      <td>2019-03-24</td>\n",
       "      <td>Banglore</td>\n",
       "      <td>New Delhi</td>\n",
       "      <td>BLR → DEL</td>\n",
       "      <td>22:20</td>\n",
       "      <td>01:10 22 Mar</td>\n",
       "      <td>2h 50m</td>\n",
       "      <td>non-stop</td>\n",
       "      <td>No info</td>\n",
       "      <td>3897</td>\n",
       "      <td>24</td>\n",
       "      <td>3</td>\n",
       "      <td>2019</td>\n",
       "      <td>22</td>\n",
       "      <td>20</td>\n",
       "      <td>1</td>\n",
       "      <td>10</td>\n",
       "      <td>170</td>\n",
       "      <td>0</td>\n",
       "    </tr>\n",
       "    <tr>\n",
       "      <th>1</th>\n",
       "      <td>Air India</td>\n",
       "      <td>2019-05-01</td>\n",
       "      <td>Kolkata</td>\n",
       "      <td>Banglore</td>\n",
       "      <td>CCU → IXR → BBI → BLR</td>\n",
       "      <td>05:50</td>\n",
       "      <td>13:15</td>\n",
       "      <td>7h 25m</td>\n",
       "      <td>2 stops</td>\n",
       "      <td>No info</td>\n",
       "      <td>7662</td>\n",
       "      <td>1</td>\n",
       "      <td>5</td>\n",
       "      <td>2019</td>\n",
       "      <td>5</td>\n",
       "      <td>50</td>\n",
       "      <td>13</td>\n",
       "      <td>15</td>\n",
       "      <td>445</td>\n",
       "      <td>0</td>\n",
       "    </tr>\n",
       "    <tr>\n",
       "      <th>2</th>\n",
       "      <td>Jet Airways</td>\n",
       "      <td>2019-06-09</td>\n",
       "      <td>Delhi</td>\n",
       "      <td>Cochin</td>\n",
       "      <td>DEL → LKO → BOM → COK</td>\n",
       "      <td>09:25</td>\n",
       "      <td>04:25 10 Jun</td>\n",
       "      <td>19h</td>\n",
       "      <td>2 stops</td>\n",
       "      <td>No info</td>\n",
       "      <td>13882</td>\n",
       "      <td>9</td>\n",
       "      <td>6</td>\n",
       "      <td>2019</td>\n",
       "      <td>9</td>\n",
       "      <td>25</td>\n",
       "      <td>4</td>\n",
       "      <td>25</td>\n",
       "      <td>1140</td>\n",
       "      <td>0</td>\n",
       "    </tr>\n",
       "    <tr>\n",
       "      <th>3</th>\n",
       "      <td>IndiGo</td>\n",
       "      <td>2019-05-12</td>\n",
       "      <td>Kolkata</td>\n",
       "      <td>Banglore</td>\n",
       "      <td>CCU → NAG → BLR</td>\n",
       "      <td>18:05</td>\n",
       "      <td>23:30</td>\n",
       "      <td>5h 25m</td>\n",
       "      <td>1 stop</td>\n",
       "      <td>No info</td>\n",
       "      <td>6218</td>\n",
       "      <td>12</td>\n",
       "      <td>5</td>\n",
       "      <td>2019</td>\n",
       "      <td>18</td>\n",
       "      <td>5</td>\n",
       "      <td>23</td>\n",
       "      <td>30</td>\n",
       "      <td>325</td>\n",
       "      <td>0</td>\n",
       "    </tr>\n",
       "    <tr>\n",
       "      <th>4</th>\n",
       "      <td>IndiGo</td>\n",
       "      <td>2019-03-01</td>\n",
       "      <td>Banglore</td>\n",
       "      <td>New Delhi</td>\n",
       "      <td>BLR → NAG → DEL</td>\n",
       "      <td>16:50</td>\n",
       "      <td>21:35</td>\n",
       "      <td>4h 45m</td>\n",
       "      <td>1 stop</td>\n",
       "      <td>No info</td>\n",
       "      <td>13302</td>\n",
       "      <td>1</td>\n",
       "      <td>3</td>\n",
       "      <td>2019</td>\n",
       "      <td>16</td>\n",
       "      <td>50</td>\n",
       "      <td>21</td>\n",
       "      <td>35</td>\n",
       "      <td>285</td>\n",
       "      <td>0</td>\n",
       "    </tr>\n",
       "  </tbody>\n",
       "</table>\n",
       "</div>"
      ],
      "text/plain": [
       "       Airline Date_of_Journey    Source Destination                  Route  \\\n",
       "0       IndiGo      2019-03-24  Banglore   New Delhi              BLR → DEL   \n",
       "1    Air India      2019-05-01   Kolkata    Banglore  CCU → IXR → BBI → BLR   \n",
       "2  Jet Airways      2019-06-09     Delhi      Cochin  DEL → LKO → BOM → COK   \n",
       "3       IndiGo      2019-05-12   Kolkata    Banglore        CCU → NAG → BLR   \n",
       "4       IndiGo      2019-03-01  Banglore   New Delhi        BLR → NAG → DEL   \n",
       "\n",
       "  Dep_Time  Arrival_Time Duration Total_Stops Additional_Info  Price  \\\n",
       "0    22:20  01:10 22 Mar   2h 50m    non-stop         No info   3897   \n",
       "1    05:50         13:15   7h 25m     2 stops         No info   7662   \n",
       "2    09:25  04:25 10 Jun      19h     2 stops         No info  13882   \n",
       "3    18:05         23:30   5h 25m      1 stop         No info   6218   \n",
       "4    16:50         21:35   4h 45m      1 stop         No info  13302   \n",
       "\n",
       "   Journey_Day  Journey_Month  Journey_Year  Dep_Hour  Dep_Min  Arrival_Hour  \\\n",
       "0           24              3          2019        22       20             1   \n",
       "1            1              5          2019         5       50            13   \n",
       "2            9              6          2019         9       25             4   \n",
       "3           12              5          2019        18        5            23   \n",
       "4            1              3          2019        16       50            21   \n",
       "\n",
       "   Arrival_Min  Duration_Mins  Meal_Included  \n",
       "0           10            170              0  \n",
       "1           15            445              0  \n",
       "2           25           1140              0  \n",
       "3           30            325              0  \n",
       "4           35            285              0  "
      ]
     },
     "metadata": {},
     "output_type": "display_data"
    }
   ],
   "source": [
    "display(train_df.head())"
   ]
  },
  {
   "cell_type": "code",
   "execution_count": 16,
   "id": "new_cell_9",
   "metadata": {},
   "outputs": [],
   "source": [
    "# Define features and target\n",
    "X = train_df.drop(['Price', 'Date_of_Journey', 'Dep_Time', 'Arrival_Time', 'Duration', 'Additional_Info'], axis=1)\n",
    "y = train_df['Price']\n",
    "\n",
    "# Define categorical and numerical columns\n",
    "cat_cols = ['Airline', 'Source', 'Destination', 'Route', 'Total_Stops']\n",
    "num_cols = ['Journey_Day', 'Journey_Month', 'Journey_Year', 'Duration_Mins', 'Dep_Hour', 'Dep_Min', 'Arrival_Hour', 'Arrival_Min', 'Meal_Included']\n",
    "\n",
    "# Split data\n",
    "X_train, X_val, y_train, y_val = train_test_split(X, y, test_size=0.2, random_state=42)"
   ]
  },
  {
   "cell_type": "markdown",
   "id": "new_cell_10",
   "metadata": {},
   "source": [
    "## Feature Selection"
   ]
  },
  {
   "cell_type": "code",
   "execution_count": 17,
   "id": "new_cell_11",
   "metadata": {},
   "outputs": [
    {
     "name": "stdout",
     "output_type": "stream",
     "text": [
      "Selected Features: ['Journey_Day', 'Journey_Month', 'Duration_Mins', 'Dep_Hour', 'Dep_Min', 'Arrival_Hour', 'Arrival_Min', 'Meal_Included', 'Airline_Air Asia', 'Airline_Air India', 'Airline_GoAir', 'Airline_IndiGo', 'Airline_Jet Airways', 'Airline_Jet Airways Business', 'Airline_Multiple carriers', 'Airline_Multiple carriers Premium economy', 'Airline_SpiceJet', 'Airline_Vistara', 'Source_Banglore', 'Source_Chennai', 'Source_Delhi', 'Source_Kolkata', 'Source_Mumbai', 'Destination_Banglore', 'Destination_Cochin', 'Destination_Delhi', 'Destination_Hyderabad', 'Destination_Kolkata', 'Destination_New Delhi', 'Route_BLR → BOM → BHO → DEL', 'Route_BLR → BOM → DEL', 'Route_BLR → BOM → IDR → DEL', 'Route_BLR → BOM → NAG → DEL', 'Route_BLR → CCU → BBI → DEL', 'Route_BLR → DEL', 'Route_BLR → HYD → DEL', 'Route_BLR → HYD → VGA → DEL', 'Route_BLR → MAA → DEL', 'Route_BLR → PNQ → DEL', 'Route_BOM → GOI → PNQ → HYD', 'Route_BOM → HYD', 'Route_BOM → JDH → DEL → HYD', 'Route_BOM → JDH → JAI → DEL → HYD', 'Route_CCU → BBI → BLR', 'Route_CCU → BBI → BOM → BLR', 'Route_CCU → BBI → HYD → BLR', 'Route_CCU → BLR', 'Route_CCU → BOM → BLR', 'Route_CCU → DEL → BLR', 'Route_CCU → DEL → COK → BLR', 'Route_CCU → GAU → BLR', 'Route_CCU → GAU → DEL → BLR', 'Route_CCU → HYD → BLR', 'Route_CCU → IXB → BLR', 'Route_CCU → IXR → BBI → BLR', 'Route_CCU → IXR → DEL → BLR', 'Route_CCU → MAA → BLR', 'Route_CCU → PAT → BLR', 'Route_CCU → VNS → DEL → BLR', 'Route_DEL → AMD → BOM → COK', 'Route_DEL → ATQ → BOM → COK', 'Route_DEL → BHO → BOM → COK', 'Route_DEL → BLR → COK', 'Route_DEL → BOM → COK', 'Route_DEL → CCU → BOM → COK', 'Route_DEL → DED → BOM → COK', 'Route_DEL → GOI → BOM → COK', 'Route_DEL → GWL → IDR → BOM → COK', 'Route_DEL → HYD → BOM → COK', 'Route_DEL → HYD → COK', 'Route_DEL → HYD → MAA → COK', 'Route_DEL → IXU → BOM → COK', 'Route_DEL → JAI → BOM → COK', 'Route_DEL → JDH → BOM → COK', 'Route_DEL → LKO → BOM → COK', 'Route_DEL → LKO → COK', 'Route_DEL → MAA → COK', 'Route_MAA → CCU', 'Total_Stops_1 stop', 'Total_Stops_2 stops', 'Total_Stops_non-stop']\n"
     ]
    }
   ],
   "source": [
    "# Create a temporary pipeline for feature selection\n",
    "temp_preprocessor = ColumnTransformer(\n",
    "    transformers=[\n",
    "        ('num', Pipeline(steps=[\n",
    "            ('imputer', SimpleImputer(strategy='median')),\n",
    "            ('scaler', StandardScaler())\n",
    "        ]), num_cols),\n",
    "        ('cat', Pipeline(steps=[\n",
    "            ('imputer', SimpleImputer(strategy='most_frequent')),\n",
    "            ('onehot', OneHotEncoder(handle_unknown='ignore', sparse=False))\n",
    "        ]), cat_cols)\n",
    "    ])\n",
    "\n",
    "# Fit the preprocessor\n",
    "X_train_transformed = temp_preprocessor.fit_transform(X_train)\n",
    "\n",
    "# Get feature names after transformation\n",
    "cat_feature_names = temp_preprocessor.named_transformers_['cat']['onehot'].get_feature_names_out(cat_cols)\n",
    "feature_names = num_cols + cat_feature_names.tolist()\n",
    "\n",
    "# Perform feature selection using RandomForest\n",
    "selector = SelectFromModel(RandomForestRegressor(n_estimators=100, random_state=42), threshold='median')\n",
    "selector.fit(X_train_transformed, y_train)\n",
    "\n",
    "# Get selected features\n",
    "selected_features = [feature_names[i] for i in range(len(feature_names)) if selector.get_support()[i]]\n",
    "print(\"Selected Features:\", selected_features)"
   ]
  },
  {
   "cell_type": "markdown",
   "id": "new_cell_12",
   "metadata": {},
   "source": [
    "## Model Pipeline"
   ]
  },
  {
   "cell_type": "code",
   "execution_count": 20,
   "id": "new_cell_13",
   "metadata": {},
   "outputs": [
    {
     "name": "stdout",
     "output_type": "stream",
     "text": [
      "\n",
      "Random Forest Performance:\n",
      "MAE: 587.8571927524752\n",
      "R2 Score: 0.9293579545896131\n",
      "Random Forest CV R2 Scores: [0.92839472 0.93459769 0.93066815 0.91715094 0.92044   ]\n",
      "Average CV R2 Score: 0.9263 (+/- 0.0130)\n"
     ]
    }
   ],
   "source": [
    "# Create preprocessing pipeline\n",
    "preprocessor = ColumnTransformer(\n",
    "    transformers=[\n",
    "        ('num', Pipeline(steps=[\n",
    "            ('imputer', SimpleImputer(strategy='median')),\n",
    "            ('scaler', StandardScaler())\n",
    "        ]), num_cols),\n",
    "        ('cat', Pipeline(steps=[\n",
    "            ('imputer', SimpleImputer(strategy='most_frequent')),\n",
    "            ('onehot', OneHotEncoder(handle_unknown='ignore', sparse=False))\n",
    "        ]), cat_cols)\n",
    "    ])\n",
    "\n",
    "# Random Forest model with tuned hyperparameters\n",
    "rf_model = Pipeline(steps=[\n",
    "    ('preprocessor', preprocessor),\n",
    "    ('regressor', RandomForestRegressor(n_estimators=200, max_depth=20, min_samples_split=5, min_samples_leaf=2, random_state=42))\n",
    "])\n",
    "\n",
    "# Train and evaluate Random Forest\n",
    "rf_model.fit(X_train, y_train)\n",
    "rf_pred = rf_model.predict(X_val)\n",
    "\n",
    "print(\"\\nRandom Forest Performance:\")\n",
    "print(f\"MAE: {mean_absolute_error(y_val, rf_pred)}\")\n",
    "print(f\"R2 Score: {r2_score(y_val, rf_pred)}\")\n",
    "\n",
    "# Cross-validation score\n",
    "rf_cv_scores = cross_val_score(rf_model, X, y, cv=5, scoring='r2')\n",
    "print(f\"Random Forest CV R2 Scores: {rf_cv_scores}\")\n",
    "print(f\"Average CV R2 Score: {rf_cv_scores.mean():.4f} (+/- {rf_cv_scores.std() * 2:.4f})\")"
   ]
  },
  {
   "cell_type": "code",
   "execution_count": 21,
   "id": "new_cell_14",
   "metadata": {},
   "outputs": [
    {
     "name": "stdout",
     "output_type": "stream",
     "text": [
      "\n",
      "XGBoost Performance:\n",
      "MAE: 889.6056200669199\n",
      "R2 Score: 0.8984797990507266\n",
      "XGBoost CV R2 Scores: [0.91221496 0.90505718 0.91466752 0.90948071 0.89855235]\n",
      "Average CV R2 Score: 0.9080 (+/- 0.0114)\n"
     ]
    }
   ],
   "source": [
    "# XGBoost model with tuned hyperparameters\n",
    "xgb_model = Pipeline(steps=[\n",
    "    ('preprocessor', preprocessor),\n",
    "    ('regressor', XGBRegressor(n_estimators=200, learning_rate=0.05, max_depth=6, subsample=0.8, colsample_bytree=0.8, random_state=42))\n",
    "])\n",
    "\n",
    "# Train and evaluate XGBoost\n",
    "xgb_model.fit(X_train, y_train)\n",
    "xgb_pred = xgb_model.predict(X_val)\n",
    "\n",
    "print(\"\\nXGBoost Performance:\")\n",
    "print(f\"MAE: {mean_absolute_error(y_val, xgb_pred)}\")\n",
    "print(f\"R2 Score: {r2_score(y_val, xgb_pred)}\")\n",
    "\n",
    "# Cross-validation score\n",
    "xgb_cv_scores = cross_val_score(xgb_model, X, y, cv=5, scoring='r2')\n",
    "print(f\"XGBoost CV R2 Scores: {xgb_cv_scores}\")\n",
    "print(f\"Average CV R2 Score: {xgb_cv_scores.mean():.4f} (+/- {xgb_cv_scores.std() * 2:.4f})\")"
   ]
  },
  {
   "cell_type": "code",
   "execution_count": 22,
   "id": "new_cell_15",
   "metadata": {},
   "outputs": [
    {
     "name": "stdout",
     "output_type": "stream",
     "text": [
      "\n",
      "Selected Model: Random Forest\n"
     ]
    }
   ],
   "source": [
    "# Select the best model based on validation R2 score\n",
    "final_model = rf_model if r2_score(y_val, rf_pred) > r2_score(y_val, xgb_pred) else xgb_model\n",
    "print(f\"\\nSelected Model: {'Random Forest' if final_model == rf_model else 'XGBoost'}\")"
   ]
  },
  {
   "cell_type": "code",
   "execution_count": 23,
   "id": "new_cell_16",
   "metadata": {},
   "outputs": [
    {
     "data": {
      "text/html": [
       "<style>#sk-container-id-1 {color: black;}#sk-container-id-1 pre{padding: 0;}#sk-container-id-1 div.sk-toggleable {background-color: white;}#sk-container-id-1 label.sk-toggleable__label {cursor: pointer;display: block;width: 100%;margin-bottom: 0;padding: 0.3em;box-sizing: border-box;text-align: center;}#sk-container-id-1 label.sk-toggleable__label-arrow:before {content: \"▸\";float: left;margin-right: 0.25em;color: #696969;}#sk-container-id-1 label.sk-toggleable__label-arrow:hover:before {color: black;}#sk-container-id-1 div.sk-estimator:hover label.sk-toggleable__label-arrow:before {color: black;}#sk-container-id-1 div.sk-toggleable__content {max-height: 0;max-width: 0;overflow: hidden;text-align: left;background-color: #f0f8ff;}#sk-container-id-1 div.sk-toggleable__content pre {margin: 0.2em;color: black;border-radius: 0.25em;background-color: #f0f8ff;}#sk-container-id-1 input.sk-toggleable__control:checked~div.sk-toggleable__content {max-height: 200px;max-width: 100%;overflow: auto;}#sk-container-id-1 input.sk-toggleable__control:checked~label.sk-toggleable__label-arrow:before {content: \"▾\";}#sk-container-id-1 div.sk-estimator input.sk-toggleable__control:checked~label.sk-toggleable__label {background-color: #d4ebff;}#sk-container-id-1 div.sk-label input.sk-toggleable__control:checked~label.sk-toggleable__label {background-color: #d4ebff;}#sk-container-id-1 input.sk-hidden--visually {border: 0;clip: rect(1px 1px 1px 1px);clip: rect(1px, 1px, 1px, 1px);height: 1px;margin: -1px;overflow: hidden;padding: 0;position: absolute;width: 1px;}#sk-container-id-1 div.sk-estimator {font-family: monospace;background-color: #f0f8ff;border: 1px dotted black;border-radius: 0.25em;box-sizing: border-box;margin-bottom: 0.5em;}#sk-container-id-1 div.sk-estimator:hover {background-color: #d4ebff;}#sk-container-id-1 div.sk-parallel-item::after {content: \"\";width: 100%;border-bottom: 1px solid gray;flex-grow: 1;}#sk-container-id-1 div.sk-label:hover label.sk-toggleable__label {background-color: #d4ebff;}#sk-container-id-1 div.sk-serial::before {content: \"\";position: absolute;border-left: 1px solid gray;box-sizing: border-box;top: 0;bottom: 0;left: 50%;z-index: 0;}#sk-container-id-1 div.sk-serial {display: flex;flex-direction: column;align-items: center;background-color: white;padding-right: 0.2em;padding-left: 0.2em;position: relative;}#sk-container-id-1 div.sk-item {position: relative;z-index: 1;}#sk-container-id-1 div.sk-parallel {display: flex;align-items: stretch;justify-content: center;background-color: white;position: relative;}#sk-container-id-1 div.sk-item::before, #sk-container-id-1 div.sk-parallel-item::before {content: \"\";position: absolute;border-left: 1px solid gray;box-sizing: border-box;top: 0;bottom: 0;left: 50%;z-index: -1;}#sk-container-id-1 div.sk-parallel-item {display: flex;flex-direction: column;z-index: 1;position: relative;background-color: white;}#sk-container-id-1 div.sk-parallel-item:first-child::after {align-self: flex-end;width: 50%;}#sk-container-id-1 div.sk-parallel-item:last-child::after {align-self: flex-start;width: 50%;}#sk-container-id-1 div.sk-parallel-item:only-child::after {width: 0;}#sk-container-id-1 div.sk-dashed-wrapped {border: 1px dashed gray;margin: 0 0.4em 0.5em 0.4em;box-sizing: border-box;padding-bottom: 0.4em;background-color: white;}#sk-container-id-1 div.sk-label label {font-family: monospace;font-weight: bold;display: inline-block;line-height: 1.2em;}#sk-container-id-1 div.sk-label-container {text-align: center;}#sk-container-id-1 div.sk-container {/* jupyter's `normalize.less` sets `[hidden] { display: none; }` but bootstrap.min.css set `[hidden] { display: none !important; }` so we also need the `!important` here to be able to override the default hidden behavior on the sphinx rendered scikit-learn.org. See: https://github.com/scikit-learn/scikit-learn/issues/21755 */display: inline-block !important;position: relative;}#sk-container-id-1 div.sk-text-repr-fallback {display: none;}</style><div id=\"sk-container-id-1\" class=\"sk-top-container\"><div class=\"sk-text-repr-fallback\"><pre>Pipeline(steps=[(&#x27;preprocessor&#x27;,\n",
       "                 ColumnTransformer(transformers=[(&#x27;num&#x27;,\n",
       "                                                  Pipeline(steps=[(&#x27;imputer&#x27;,\n",
       "                                                                   SimpleImputer(strategy=&#x27;median&#x27;)),\n",
       "                                                                  (&#x27;scaler&#x27;,\n",
       "                                                                   StandardScaler())]),\n",
       "                                                  [&#x27;Journey_Day&#x27;,\n",
       "                                                   &#x27;Journey_Month&#x27;,\n",
       "                                                   &#x27;Journey_Year&#x27;,\n",
       "                                                   &#x27;Duration_Mins&#x27;, &#x27;Dep_Hour&#x27;,\n",
       "                                                   &#x27;Dep_Min&#x27;, &#x27;Arrival_Hour&#x27;,\n",
       "                                                   &#x27;Arrival_Min&#x27;,\n",
       "                                                   &#x27;Meal_Included&#x27;]),\n",
       "                                                 (&#x27;cat&#x27;,\n",
       "                                                  Pipeline(steps=[(&#x27;imputer&#x27;,\n",
       "                                                                   SimpleImputer(strategy=&#x27;most_frequent&#x27;)),\n",
       "                                                                  (&#x27;onehot&#x27;,\n",
       "                                                                   OneHotEncoder(handle_unknown=&#x27;ignore&#x27;,\n",
       "                                                                                 sparse=False))]),\n",
       "                                                  [&#x27;Airline&#x27;, &#x27;Source&#x27;,\n",
       "                                                   &#x27;Destination&#x27;, &#x27;Route&#x27;,\n",
       "                                                   &#x27;Total_Stops&#x27;])])),\n",
       "                (&#x27;regressor&#x27;,\n",
       "                 RandomForestRegressor(max_depth=20, min_samples_leaf=2,\n",
       "                                       min_samples_split=5, n_estimators=200,\n",
       "                                       random_state=42))])</pre><b>In a Jupyter environment, please rerun this cell to show the HTML representation or trust the notebook. <br />On GitHub, the HTML representation is unable to render, please try loading this page with nbviewer.org.</b></div><div class=\"sk-container\" hidden><div class=\"sk-item sk-dashed-wrapped\"><div class=\"sk-label-container\"><div class=\"sk-label sk-toggleable\"><input class=\"sk-toggleable__control sk-hidden--visually\" id=\"sk-estimator-id-1\" type=\"checkbox\" ><label for=\"sk-estimator-id-1\" class=\"sk-toggleable__label sk-toggleable__label-arrow\">Pipeline</label><div class=\"sk-toggleable__content\"><pre>Pipeline(steps=[(&#x27;preprocessor&#x27;,\n",
       "                 ColumnTransformer(transformers=[(&#x27;num&#x27;,\n",
       "                                                  Pipeline(steps=[(&#x27;imputer&#x27;,\n",
       "                                                                   SimpleImputer(strategy=&#x27;median&#x27;)),\n",
       "                                                                  (&#x27;scaler&#x27;,\n",
       "                                                                   StandardScaler())]),\n",
       "                                                  [&#x27;Journey_Day&#x27;,\n",
       "                                                   &#x27;Journey_Month&#x27;,\n",
       "                                                   &#x27;Journey_Year&#x27;,\n",
       "                                                   &#x27;Duration_Mins&#x27;, &#x27;Dep_Hour&#x27;,\n",
       "                                                   &#x27;Dep_Min&#x27;, &#x27;Arrival_Hour&#x27;,\n",
       "                                                   &#x27;Arrival_Min&#x27;,\n",
       "                                                   &#x27;Meal_Included&#x27;]),\n",
       "                                                 (&#x27;cat&#x27;,\n",
       "                                                  Pipeline(steps=[(&#x27;imputer&#x27;,\n",
       "                                                                   SimpleImputer(strategy=&#x27;most_frequent&#x27;)),\n",
       "                                                                  (&#x27;onehot&#x27;,\n",
       "                                                                   OneHotEncoder(handle_unknown=&#x27;ignore&#x27;,\n",
       "                                                                                 sparse=False))]),\n",
       "                                                  [&#x27;Airline&#x27;, &#x27;Source&#x27;,\n",
       "                                                   &#x27;Destination&#x27;, &#x27;Route&#x27;,\n",
       "                                                   &#x27;Total_Stops&#x27;])])),\n",
       "                (&#x27;regressor&#x27;,\n",
       "                 RandomForestRegressor(max_depth=20, min_samples_leaf=2,\n",
       "                                       min_samples_split=5, n_estimators=200,\n",
       "                                       random_state=42))])</pre></div></div></div><div class=\"sk-serial\"><div class=\"sk-item sk-dashed-wrapped\"><div class=\"sk-label-container\"><div class=\"sk-label sk-toggleable\"><input class=\"sk-toggleable__control sk-hidden--visually\" id=\"sk-estimator-id-2\" type=\"checkbox\" ><label for=\"sk-estimator-id-2\" class=\"sk-toggleable__label sk-toggleable__label-arrow\">preprocessor: ColumnTransformer</label><div class=\"sk-toggleable__content\"><pre>ColumnTransformer(transformers=[(&#x27;num&#x27;,\n",
       "                                 Pipeline(steps=[(&#x27;imputer&#x27;,\n",
       "                                                  SimpleImputer(strategy=&#x27;median&#x27;)),\n",
       "                                                 (&#x27;scaler&#x27;, StandardScaler())]),\n",
       "                                 [&#x27;Journey_Day&#x27;, &#x27;Journey_Month&#x27;,\n",
       "                                  &#x27;Journey_Year&#x27;, &#x27;Duration_Mins&#x27;, &#x27;Dep_Hour&#x27;,\n",
       "                                  &#x27;Dep_Min&#x27;, &#x27;Arrival_Hour&#x27;, &#x27;Arrival_Min&#x27;,\n",
       "                                  &#x27;Meal_Included&#x27;]),\n",
       "                                (&#x27;cat&#x27;,\n",
       "                                 Pipeline(steps=[(&#x27;imputer&#x27;,\n",
       "                                                  SimpleImputer(strategy=&#x27;most_frequent&#x27;)),\n",
       "                                                 (&#x27;onehot&#x27;,\n",
       "                                                  OneHotEncoder(handle_unknown=&#x27;ignore&#x27;,\n",
       "                                                                sparse=False))]),\n",
       "                                 [&#x27;Airline&#x27;, &#x27;Source&#x27;, &#x27;Destination&#x27;, &#x27;Route&#x27;,\n",
       "                                  &#x27;Total_Stops&#x27;])])</pre></div></div></div><div class=\"sk-parallel\"><div class=\"sk-parallel-item\"><div class=\"sk-item\"><div class=\"sk-label-container\"><div class=\"sk-label sk-toggleable\"><input class=\"sk-toggleable__control sk-hidden--visually\" id=\"sk-estimator-id-3\" type=\"checkbox\" ><label for=\"sk-estimator-id-3\" class=\"sk-toggleable__label sk-toggleable__label-arrow\">num</label><div class=\"sk-toggleable__content\"><pre>[&#x27;Journey_Day&#x27;, &#x27;Journey_Month&#x27;, &#x27;Journey_Year&#x27;, &#x27;Duration_Mins&#x27;, &#x27;Dep_Hour&#x27;, &#x27;Dep_Min&#x27;, &#x27;Arrival_Hour&#x27;, &#x27;Arrival_Min&#x27;, &#x27;Meal_Included&#x27;]</pre></div></div></div><div class=\"sk-serial\"><div class=\"sk-item\"><div class=\"sk-serial\"><div class=\"sk-item\"><div class=\"sk-estimator sk-toggleable\"><input class=\"sk-toggleable__control sk-hidden--visually\" id=\"sk-estimator-id-4\" type=\"checkbox\" ><label for=\"sk-estimator-id-4\" class=\"sk-toggleable__label sk-toggleable__label-arrow\">SimpleImputer</label><div class=\"sk-toggleable__content\"><pre>SimpleImputer(strategy=&#x27;median&#x27;)</pre></div></div></div><div class=\"sk-item\"><div class=\"sk-estimator sk-toggleable\"><input class=\"sk-toggleable__control sk-hidden--visually\" id=\"sk-estimator-id-5\" type=\"checkbox\" ><label for=\"sk-estimator-id-5\" class=\"sk-toggleable__label sk-toggleable__label-arrow\">StandardScaler</label><div class=\"sk-toggleable__content\"><pre>StandardScaler()</pre></div></div></div></div></div></div></div></div><div class=\"sk-parallel-item\"><div class=\"sk-item\"><div class=\"sk-label-container\"><div class=\"sk-label sk-toggleable\"><input class=\"sk-toggleable__control sk-hidden--visually\" id=\"sk-estimator-id-6\" type=\"checkbox\" ><label for=\"sk-estimator-id-6\" class=\"sk-toggleable__label sk-toggleable__label-arrow\">cat</label><div class=\"sk-toggleable__content\"><pre>[&#x27;Airline&#x27;, &#x27;Source&#x27;, &#x27;Destination&#x27;, &#x27;Route&#x27;, &#x27;Total_Stops&#x27;]</pre></div></div></div><div class=\"sk-serial\"><div class=\"sk-item\"><div class=\"sk-serial\"><div class=\"sk-item\"><div class=\"sk-estimator sk-toggleable\"><input class=\"sk-toggleable__control sk-hidden--visually\" id=\"sk-estimator-id-7\" type=\"checkbox\" ><label for=\"sk-estimator-id-7\" class=\"sk-toggleable__label sk-toggleable__label-arrow\">SimpleImputer</label><div class=\"sk-toggleable__content\"><pre>SimpleImputer(strategy=&#x27;most_frequent&#x27;)</pre></div></div></div><div class=\"sk-item\"><div class=\"sk-estimator sk-toggleable\"><input class=\"sk-toggleable__control sk-hidden--visually\" id=\"sk-estimator-id-8\" type=\"checkbox\" ><label for=\"sk-estimator-id-8\" class=\"sk-toggleable__label sk-toggleable__label-arrow\">OneHotEncoder</label><div class=\"sk-toggleable__content\"><pre>OneHotEncoder(handle_unknown=&#x27;ignore&#x27;, sparse=False)</pre></div></div></div></div></div></div></div></div></div></div><div class=\"sk-item\"><div class=\"sk-estimator sk-toggleable\"><input class=\"sk-toggleable__control sk-hidden--visually\" id=\"sk-estimator-id-9\" type=\"checkbox\" ><label for=\"sk-estimator-id-9\" class=\"sk-toggleable__label sk-toggleable__label-arrow\">RandomForestRegressor</label><div class=\"sk-toggleable__content\"><pre>RandomForestRegressor(max_depth=20, min_samples_leaf=2, min_samples_split=5,\n",
       "                      n_estimators=200, random_state=42)</pre></div></div></div></div></div></div></div>"
      ],
      "text/plain": [
       "Pipeline(steps=[('preprocessor',\n",
       "                 ColumnTransformer(transformers=[('num',\n",
       "                                                  Pipeline(steps=[('imputer',\n",
       "                                                                   SimpleImputer(strategy='median')),\n",
       "                                                                  ('scaler',\n",
       "                                                                   StandardScaler())]),\n",
       "                                                  ['Journey_Day',\n",
       "                                                   'Journey_Month',\n",
       "                                                   'Journey_Year',\n",
       "                                                   'Duration_Mins', 'Dep_Hour',\n",
       "                                                   'Dep_Min', 'Arrival_Hour',\n",
       "                                                   'Arrival_Min',\n",
       "                                                   'Meal_Included']),\n",
       "                                                 ('cat',\n",
       "                                                  Pipeline(steps=[('imputer',\n",
       "                                                                   SimpleImputer(strategy='most_frequent')),\n",
       "                                                                  ('onehot',\n",
       "                                                                   OneHotEncoder(handle_unknown='ignore',\n",
       "                                                                                 sparse=False))]),\n",
       "                                                  ['Airline', 'Source',\n",
       "                                                   'Destination', 'Route',\n",
       "                                                   'Total_Stops'])])),\n",
       "                ('regressor',\n",
       "                 RandomForestRegressor(max_depth=20, min_samples_leaf=2,\n",
       "                                       min_samples_split=5, n_estimators=200,\n",
       "                                       random_state=42))])"
      ]
     },
     "execution_count": 23,
     "metadata": {},
     "output_type": "execute_result"
    }
   ],
   "source": [
    "# Retrain on full data\n",
    "final_model.fit(X, y)"
   ]
  },
  {
   "cell_type": "code",
   "execution_count": 24,
   "id": "new_cell_17",
   "metadata": {},
   "outputs": [
    {
     "data": {
      "text/plain": [
       "['flight_price_model.joblib']"
      ]
     },
     "execution_count": 24,
     "metadata": {},
     "output_type": "execute_result"
    }
   ],
   "source": [
    "# Save the model pipeline\n",
    "joblib.dump(final_model, 'flight_price_model.joblib')"
   ]
  },
  {
   "cell_type": "code",
   "execution_count": 25,
   "id": "new_cell_18",
   "metadata": {},
   "outputs": [
    {
     "data": {
      "text/plain": [
       "['model_metadata.joblib']"
      ]
     },
     "execution_count": 25,
     "metadata": {},
     "output_type": "execute_result"
    }
   ],
   "source": [
    "# Save the column names for later use\n",
    "model_metadata = {\n",
    "    'features': X.columns.tolist(),\n",
    "    'categorical_cols': cat_cols,\n",
    "    'numerical_cols': num_cols\n",
    "}\n",
    "joblib.dump(model_metadata, 'model_metadata.joblib')"
   ]
  },
  {
   "cell_type": "code",
   "execution_count": 26,
   "id": "new_cell_19",
   "metadata": {},
   "outputs": [
    {
     "name": "stdout",
     "output_type": "stream",
     "text": [
      "\n",
      "Model saved successfully!\n"
     ]
    }
   ],
   "source": [
    "print(\"\\nModel saved successfully!\")"
   ]
  },
  {
   "cell_type": "code",
   "execution_count": 27,
   "id": "new_cell_20",
   "metadata": {},
   "outputs": [],
   "source": [
    "def predict_flight_price(input_features):\n",
    "    \"\"\"\n",
    "    Predict flight price given input features\n",
    "    Expected input format: Dictionary with keys matching training columns\n",
    "    \"\"\"\n",
    "    # Load model and metadata\n",
    "    model = joblib.load('flight_price_model.joblib')\n",
    "    metadata = joblib.load('model_metadata.joblib')\n",
    "    \n",
    "    # Convert input to DataFrame\n",
    "    input_df = pd.DataFrame([input_features])\n",
    "    \n",
    "    # Ensure all columns are present\n",
    "    for col in metadata['features']:\n",
    "        if col not in input_df.columns:\n",
    "            input_df[col] = np.nan\n",
    "    \n",
    "    # Reorder columns\n",
    "    input_df = input_df[metadata['features']]\n",
    "    \n",
    "    # Predict\n",
    "    prediction = model.predict(input_df)\n",
    "    return prediction[0]"
   ]
  },
  {
   "cell_type": "code",
   "execution_count": 28,
   "id": "new_cell_21",
   "metadata": {},
   "outputs": [
    {
     "name": "stdout",
     "output_type": "stream",
     "text": [
      "\n",
      "Sample Prediction:\n",
      "Predicted Price: ₹6531.13\n"
     ]
    }
   ],
   "source": [
    "# Example usage\n",
    "sample_input = {\n",
    "    'Airline': 'Indigo',\n",
    "    'Source': 'Banglore',\n",
    "    'Destination': 'New Delhi',\n",
    "    'Route': 'BLR → DEL',\n",
    "    'Total_Stops': 'non-stop',\n",
    "    'Journey_Day': 15,\n",
    "    'Journey_Month': 7,\n",
    "    'Journey_Year': 2023,\n",
    "    'Duration_Mins': 170,\n",
    "    'Dep_Hour': 10,\n",
    "    'Dep_Min': 30,\n",
    "    'Arrival_Hour': 13,\n",
    "    'Arrival_Min': 20,\n",
    "    'Meal_Included': 0\n",
    "}\n",
    "\n",
    "print(\"\\nSample Prediction:\")\n",
    "print(f\"Predicted Price: ₹{predict_flight_price(sample_input):.2f}\")"
   ]
  },
  {
   "cell_type": "code",
   "execution_count": null,
   "id": "13fc2f5e",
   "metadata": {},
   "outputs": [],
   "source": []
  },
  {
   "cell_type": "code",
   "execution_count": null,
   "id": "ac044030",
   "metadata": {},
   "outputs": [],
   "source": []
  }
 ],
 "metadata": {
  "kernelspec": {
   "display_name": "travel",
   "language": "python",
   "name": "python3"
  },
  "language_info": {
   "codemirror_mode": {
    "name": "ipython",
    "version": 3
   },
   "file_extension": ".py",
   "mimetype": "text/x-python",
   "name": "python",
   "nbconvert_exporter": "python",
   "pygments_lexer": "ipython3",
   "version": "3.10.18"
  }
 },
 "nbformat": 4,
 "nbformat_minor": 5
}
